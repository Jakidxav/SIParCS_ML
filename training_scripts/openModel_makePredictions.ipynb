{
 "cells": [
  {
   "cell_type": "markdown",
   "metadata": {},
   "source": [
    "Authors: Karen Stengel, Jakidxav\n",
    "    \n",
    "In this Jupyter Notebook, we will show how you can load in a pre-trained model and predict on your test set data."
   ]
  },
  {
   "cell_type": "code",
   "execution_count": 0,
   "metadata": {
    "colab": {},
    "colab_type": "code",
    "id": "p4a8g9nHr_-1",
    "outputId": "ea49ff92-fd12-4f02-9f9e-fe1d26d9116a"
   },
   "outputs": [
    {
     "name": "stderr",
     "output_type": "stream",
     "text": [
      "Using TensorFlow backend.\n"
     ]
    }
   ],
   "source": [
    "#imports\n",
    "from contextlib import redirect_stdout\n",
    "import matplotlib\n",
    "matplotlib.use('Agg')\n",
    "import matplotlib.pyplot as plt\n",
    "from matplotlib.figure import Figure\n",
    "import seaborn as sns\n",
    "\n",
    "import numpy as np\n",
    "import pickle\n",
    "import os\n",
    "import datetime\n",
    "import time\n",
    "import random\n",
    "import sys\n",
    "\n",
    "from keras.models import Sequential, Model, save_model, load_model\n",
    "import keras.backend as K\n",
    "from keras.layers import Dense, Activation, Conv2D, Input, AveragePooling2D, MaxPooling2D, Flatten, LeakyReLU, TimeDistributed, LSTM, Dropout, BatchNormalization\n",
    "from keras.metrics import binary_accuracy\n",
    "from keras.losses import  binary_crossentropy\n",
    "from keras.regularizers import l2\n",
    "from keras.optimizers import SGD, Adam\n",
    "from IPython.display import SVG\n",
    "from keras.utils.vis_utils import model_to_dot, plot_model\n",
    "import sklearn.metrics as skm\n",
    "from tensorflow import metrics as tf\n",
    "\n",
    "#will allow for files to have their text treated as text in illustrator\n",
    "matplotlib.rcParams['pdf.fonttype'] = 42\n",
    "matplotlib.rcParams['ps.fonttype'] = 42\n",
    "\n",
    "from plotting import *"
   ]
  },
  {
   "cell_type": "code",
   "execution_count": 0,
   "metadata": {
    "colab": {},
    "colab_type": "code",
    "id": "J-OMKYPFr__I"
   },
   "outputs": [],
   "source": [
    "#path for data output. each file should contain all used params after training and metrics\n",
    "#outputDir = \"/Users/joshuadr/Desktop/final/testset/\"\n",
    "outputDir = \"/Users/jakidxav/Desktop/final/testset/\"\n",
    "X_val_filename40 = '/Users/jakidxav/Desktop/Testing/50_lead/X_val/X_val.txt'\n",
    "\n",
    "Y_val_filename = '/Users/jakidxav/Desktop/Testing/Y/Y_val/station0/Y_val.txt'\n",
    "Y_val_week_filename = '/Users/jakidxav/Desktop/Testing/Y_val_week.txt'\n",
    "\n",
    "#load in data and labels\n",
    "test_data40, test_label = load_data(X_val_filename40, Y_val_filename)\n",
    "    \n",
    "with open(Y_val_week_filename, 'rb') as k:\n",
    "    week_test_label = pickle.load(k)\n",
    "\n",
    "#reshape all data files to have the shape we need\n",
    "test_data40_2 = test_data40.reshape(-1,120,340,1)"
   ]
  },
  {
   "cell_type": "code",
   "execution_count": 0,
   "metadata": {
    "colab": {},
    "colab_type": "code",
    "id": "8mZL3g9Sr__b",
    "outputId": "caeec02d-1d5e-4353-940a-5b7d511aaa87"
   },
   "outputs": [
    {
     "name": "stdout",
     "output_type": "stream",
     "text": [
      "240/240 [==============================] - 0s 535us/step\n"
     ]
    }
   ],
   "source": [
    "#load in model, cnn 40 lead\n",
    "cnn40 = load_model('/Users/jakidxav/Desktop/180725__50_4.2_.h5')\n",
    "\n",
    "#make predictions on validation (or test) set\n",
    "cnn40_test_pred = cnn40.predict(test_data40_2).ravel()\n",
    "\n",
    "#create roc plot\n",
    "cnn40_fpr_test, cnn40_tpr_test, cnn40_thresholds_test = skm.roc_curve(week_test_label,cnn40_test_pred)\n",
    "cnn40_auroc = skm.auc(cnn40_fpr_test,cnn40_tpr_test)\n",
    "\n",
    "#get scoring data\n",
    "cnn40_score = cnn40.evaluate(test_data40_2, week_test_label, verbose=1)\n",
    "\n",
    "#make roc plot\n",
    "makePlots(outputDir + \"180725__50_4.2_week\", \"Week CNN 50\", cnn40_fpr_test, cnn40_tpr_test, cnn40_test_pred)\n",
    "\n",
    "#open text file, write scores and metricss to file\n",
    "cnn40_file = open(outputDir + \"180725__50_4.2_week.txt\", \"w+\")\n",
    "cnn40_file.write(\"%s: %.2f%%\\n\" % (cnn40.metrics_names[1], cnn40_score[1]*100))\n",
    "cnn40_file.write(\"%s: %.2f%%\" % (\"AUROC score\", cnn40_auroc))\n",
    "cnn40_file.write(\"\\n\\n\")\n",
    "with redirect_stdout(cnn40_file):\n",
    "    cnn40.summary()"
   ]
  },
  {
   "cell_type": "code",
   "execution_count": 0,
   "metadata": {
    "colab": {},
    "colab_type": "code",
    "id": "hRCQVvTTr__1",
    "outputId": "0238dc1e-bf77-43fa-9c61-c342d7facaef"
   },
   "outputs": [
    {
     "name": "stdout",
     "output_type": "stream",
     "text": [
      "[  7.26511684e-10   5.02113305e-14   1.42716417e-05   0.00000000e+00\n",
      "   0.00000000e+00   0.00000000e+00   9.76970674e-13   1.47214985e-06\n",
      "   7.02539238e-16   3.07362601e-02   9.95817213e-22   2.81509655e-14\n",
      "   9.72947486e-11   4.59839903e-13   2.53024722e-17   1.21790310e-18\n",
      "   2.40296900e-01   0.00000000e+00   0.00000000e+00   1.75485549e-28\n",
      "   3.27361120e-23   8.88140638e-30   0.00000000e+00   0.00000000e+00\n",
      "   0.00000000e+00   1.44333085e-25   0.00000000e+00   1.01953667e-07\n",
      "   1.37676857e-03   1.44677542e-05   1.84331715e-01   9.37137485e-01\n",
      "   2.61113733e-01   7.24635601e-01   6.50877890e-04   7.58507199e-34\n",
      "   4.21376944e-01   1.42291740e-01   6.37418747e-01   1.73448542e-26\n",
      "   3.86854238e-09   5.40832365e-29   9.24756408e-01   9.30204570e-01\n",
      "   8.11722100e-01   1.16974287e-01   7.05080986e-01   4.20663625e-01\n",
      "   9.92746890e-01   9.48250949e-01   8.55045095e-02   5.06218340e-33\n",
      "   4.87126262e-26   0.00000000e+00   0.00000000e+00   0.00000000e+00\n",
      "   1.38278592e-23   2.20926553e-01   9.86957312e-01   5.91193512e-03\n",
      "   3.58781417e-28   0.00000000e+00   0.00000000e+00   4.51821811e-30\n",
      "   2.58117891e-03   8.28706741e-01   0.00000000e+00   0.00000000e+00\n",
      "   0.00000000e+00   0.00000000e+00   3.93877849e-26   0.00000000e+00\n",
      "   1.65301995e-18   3.67089562e-12   1.32240359e-27   1.11771019e-08\n",
      "   3.44932377e-01   6.53372228e-01   0.00000000e+00   0.00000000e+00\n",
      "   2.31545858e-14   1.77024976e-16   1.60282246e-10   0.00000000e+00\n",
      "   0.00000000e+00   3.67502524e-14   5.27563388e-04   2.71946897e-19\n",
      "   0.00000000e+00   0.00000000e+00   0.00000000e+00   0.00000000e+00\n",
      "   1.73837247e-35   2.75715148e-08   1.55490962e-08   9.37426183e-03\n",
      "   2.56694561e-11   0.00000000e+00   2.57349109e-29   3.90356483e-20\n",
      "   2.73014395e-34   1.18262289e-10   6.39683098e-11   4.44879422e-09\n",
      "   3.19202984e-04   7.19426811e-01   4.66539163e-24   6.08540233e-03\n",
      "   5.90324682e-20   0.00000000e+00   8.40762652e-22   0.00000000e+00\n",
      "   8.43905427e-29   6.51815268e-09   1.05579176e-07   9.64786578e-03\n",
      "   4.58445157e-08   3.49385351e-01   9.31733608e-01   5.13993799e-19\n",
      "   3.50628950e-38   3.60152965e-19   3.43922346e-13   1.20580948e-26\n",
      "   5.76387265e-06   3.27176957e-12   9.28798158e-08   7.88027346e-01\n",
      "   6.62003160e-01   3.29681709e-02   8.42436433e-01   8.20966251e-03\n",
      "   9.71357703e-01   2.70971078e-02   9.69753146e-01   9.99994397e-01\n",
      "   9.99024749e-01   9.99998689e-01   9.84624386e-01   9.09926713e-01\n",
      "   9.97176051e-01   3.27569256e-11   4.01192574e-06   9.99491811e-01\n",
      "   9.99796808e-01   1.78699970e-01   4.08593193e-02   1.00921145e-25\n",
      "   1.19432080e-38   1.82875070e-07   1.33765994e-27   0.00000000e+00\n",
      "   1.16894300e-10   5.47875345e-01   7.38153756e-01   8.89535297e-20\n",
      "   6.24916006e-15   8.52875743e-08   7.70646691e-01   2.59127292e-21\n",
      "   0.00000000e+00   1.84513673e-36   1.72609254e-03   7.75183201e-01\n",
      "   9.12282109e-01   9.75705683e-01   9.96019185e-01   1.74816814e-04\n",
      "   1.16933908e-34   7.78984030e-11   8.95010842e-15   4.56420058e-12\n",
      "   0.00000000e+00   0.00000000e+00   2.12171557e-07   1.97282933e-25\n",
      "   5.59589207e-01   9.58451569e-01   9.97624338e-01   2.18679652e-05\n",
      "   8.64349958e-03   4.46995930e-15   1.71971270e-13   1.32119549e-09\n",
      "   6.20821357e-01   3.94987984e-20   1.16648743e-27   4.84336520e-23\n",
      "   6.12125604e-08   1.27286296e-06   3.00712585e-01   4.85230237e-01\n",
      "   6.03860851e-27   0.00000000e+00   4.07762709e-05   1.84944781e-06\n",
      "   0.00000000e+00   0.00000000e+00   0.00000000e+00   0.00000000e+00\n",
      "   0.00000000e+00   0.00000000e+00   0.00000000e+00   9.96726036e-01\n",
      "   5.40790141e-01   9.92593348e-01   1.24344835e-14   2.38200627e-22\n",
      "   2.92311003e-28   9.32282926e-18   9.56459355e-15   7.20838292e-26\n",
      "   7.12323607e-18   7.54974544e-01   7.78380632e-01   3.31652192e-24\n",
      "   0.00000000e+00   0.00000000e+00   0.00000000e+00   0.00000000e+00\n",
      "   5.26980347e-26   1.63722562e-03   2.43811427e-13   0.00000000e+00\n",
      "   0.00000000e+00   0.00000000e+00   2.15694155e-24   7.26010941e-38\n",
      "   9.93039072e-01   1.12468505e-17   6.47658501e-25   2.60270000e-10\n",
      "   1.11272085e-29   1.04784093e-19   2.49639097e-27   1.52490275e-05\n",
      "   3.07500336e-08   1.68267362e-11   3.23425025e-16   2.26654036e-26]\n"
     ]
    }
   ],
   "source": [
    "#let's take a look at what our predictions look like\n",
    "print(cnn40_test_pred)"
   ]
  }
 ],
 "metadata": {
  "colab": {
   "name": "Open_preds_PREDICT.ipynb",
   "provenance": [],
   "version": "0.3.2"
  },
  "kernelspec": {
   "display_name": "Python 3",
   "language": "python",
   "name": "python3"
  },
  "language_info": {
   "codemirror_mode": {
    "name": "ipython",
    "version": 3
   },
   "file_extension": ".py",
   "mimetype": "text/x-python",
   "name": "python",
   "nbconvert_exporter": "python",
   "pygments_lexer": "ipython3",
   "version": "3.6.8"
  }
 },
 "nbformat": 4,
 "nbformat_minor": 1
}
