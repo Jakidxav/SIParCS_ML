{
 "cells": [
  {
   "cell_type": "markdown",
   "metadata": {},
   "source": [
    "Authors: Jakidxav, Negin Sobhani\n",
    "    \n",
    "This Notebook creates our data labels for a given (singular) station. First, we read in the data and subset for the correct years and calendar days. Then we create a temperature anomaly column, and create labels based on whether this anomaly is greater than or equal to a cutoff value that we have specified. We can do this for the training, development, and validation sets all in one go."
   ]
  },
  {
   "cell_type": "code",
   "execution_count": 0,
   "metadata": {
    "colab": {},
    "colab_type": "code",
    "id": "01d_zfO1sLxM"
   },
   "outputs": [],
   "source": [
    "import netCDF4 as nc  \n",
    "import numpy as np\n",
    "import datetime\n",
    "import pandas as pd\n",
    "import datetime as dt\n",
    "\n",
    "import matplotlib.pylab as plt\n",
    "%matplotlib inline\n",
    "\n",
    "import pickle"
   ]
  },
  {
   "cell_type": "code",
   "execution_count": 0,
   "metadata": {
    "colab": {},
    "colab_type": "code",
    "id": "FZqhsTRVsLxi"
   },
   "outputs": [],
   "source": [
    "#directory where station csv files are held\n",
    "ghcnd_csv_dir = '/glade/work/ddvento/ML/McKinnon_data/ghcnd/ghcnd_all_csv/'\n",
    "\n",
    "#starting and ending years in our analysis\n",
    "start_year = 1982\n",
    "end_year   = 2015\n",
    "     \n",
    "#days that mckinnon used in her paper\n",
    "start_doy  = 175\n",
    "end_doy    = 234\n",
    "        \n",
    "#temperature anomaly which classifies a day as hot or not-hot\n",
    "cut_off = 6.5\n",
    "\n",
    "#found at: https://www.ncdc.noaa.gov/\n",
    "station_id = 'USC00391621' #station10 chamberlain 5 s, south dakota (136)\n",
    "\n",
    "#years to subset our data for the development and validation sets\n",
    "#everything else will go into the training set\n",
    "dev_nino_list = [1983, 1990, 1995, 2008]\n",
    "val_nino_list = [1988, 1994, 1999, 2003]"
   ]
  },
  {
   "cell_type": "code",
   "execution_count": 0,
   "metadata": {
    "colab": {},
    "colab_type": "code",
    "id": "C5I4i_sdsLx3"
   },
   "outputs": [],
   "source": [
    "'''\n",
    "get_ghcnd_stn:\n",
    "    *Opens the csv file for the GHCND station as df\n",
    "    *Add a pd.datetime column to the df\n",
    "    *Add Julian Day (day of the year) jday to the df \n",
    "    *Selects data for only the training years\n",
    "    *Selects data for only the selected days of a year ( e.g. 60 days of summer.) \n",
    "\n",
    "----------\n",
    "Parameters:\n",
    "    ghcnd_csv_dir --- path to GHCN processed csv files.\n",
    "    stn_id --- GHCN station ID based on GHCN readme.txt\n",
    "        (ftp://ftp.ncdc.noaa.gov/pub/data/ghcn/daily/readme.txt)\n",
    "\n",
    "    start_year --- start year for the period to slice. \n",
    "    end_year \n",
    "\n",
    "    start_doy  --- start julian day (day of year) for the period\n",
    "                    you are looking at.  \n",
    "    end_doy\n",
    "-------\n",
    "Returns:\n",
    "    stn_data --- \n",
    "\n",
    "-------\n",
    "Example:\n",
    "    stn_data = get_ghcnd_stn(ghcnd_csv_dir,stn_id,1982,\n",
    "                2015, 30, 90)\n",
    "\n",
    "'''\n",
    "def get_ghcnd_stn (ghcnd_csv_dir, stn_id, start_year, end_year, start_doy, end_doy):\n",
    "        #create station label so that we can read in the file using pandas\n",
    "        stn_csv = ghcnd_csv_dir+stn_id+'.csv'\n",
    "        \n",
    "        #read in file, replace nan values\n",
    "        stn_raw = pd.read_csv(stn_csv,na_values=-9999)\n",
    "            \n",
    "        #convert dates into datetime objects so that we can extract the day of the year\n",
    "        stn_raw['date']=pd.to_datetime(stn_raw['YYYY'].astype(str)+'-'+stn_raw['MM'].astype(str)+'-'+stn_raw['DD'].astype(str))\n",
    "        stn_raw['jday'] = stn_raw['date'].dt.dayofyear.apply(lambda x: str(x).zfill(3)).astype(int)\n",
    "\n",
    "        #subset data based on years and calendar days\n",
    "        yrs_data = stn_raw[(stn_raw['YYYY']>=start_year) & (stn_raw['YYYY']<=end_year)]\n",
    "        stn_data= yrs_data[(yrs_data['jday']>=start_doy) & (yrs_data['jday']<=end_doy)]\n",
    "            \n",
    "        return stn_data"
   ]
  },
  {
   "cell_type": "code",
   "execution_count": 0,
   "metadata": {
    "colab": {},
    "colab_type": "code",
    "id": "ZMbW6ycQsLyA"
   },
   "outputs": [],
   "source": [
    "'''\n",
    "calc_stn_anom :\n",
    "    *Calculates the anomalies of selected var for the station.\n",
    "----------\n",
    "Parameters:\n",
    "    stn_data ---\n",
    "    var --- Name of the varibale to calculate anomalies on :\n",
    "            e.g. TMAX, TMIN, PRCP\n",
    "-------\n",
    "Returns:\n",
    "    stn_data --- \n",
    "\n",
    "-------\n",
    "Example:\n",
    "    calc_stn_anom (stn_data, 'TMAX')\n",
    "    '''\n",
    "def calc_stn_anom (stn_data, var):\n",
    "        #create an anomaly column variable in our dataframe\n",
    "        var_anom= var+\"ANOM\"\n",
    "        \n",
    "        #create mean of a given variable by the .groupby() method and applying a mean transform\n",
    "        means=stn_data.groupby(['MM','DD'])[var].transform('mean')\n",
    "            \n",
    "        #create anomaly by subtracting mean\n",
    "        stn_data[var_anom]= stn_data[var] - means\n",
    "            \n",
    "        return stn_data"
   ]
  },
  {
   "cell_type": "code",
   "execution_count": 0,
   "metadata": {
    "colab": {},
    "colab_type": "code",
    "id": "jJS5k4ezsLyJ"
   },
   "outputs": [],
   "source": [
    "'''\n",
    "* Find the hot days (or extreme events) based on a cut off value.\n",
    "* Store this flag ('HOT') as a column in the stn_data.\n",
    "----------\n",
    "Parameters:\n",
    "    stn_data ---\n",
    "    cut_off --- cut off value for the extreme events\n",
    "-------\n",
    "Returns:\n",
    "    stn_data --- \n",
    "\n",
    "-------\n",
    "Example:\n",
    "    find_hot_days (stn_data, cut_off)\n",
    "\n",
    "'''\n",
    "def find_hot_days (stn_data, cut_off):\n",
    "        #if the day is hotter (or as hot) as our maximum temperature anomaly\n",
    "        #create a label of 1; 0 if less than the cuttoff temperature anomaly\n",
    "        stn_data['HOT'] = np.where(stn_data['TMAXANOM']>= cut_off,1,0)\n",
    "            \n",
    "        return stn_data"
   ]
  },
  {
   "cell_type": "code",
   "execution_count": 0,
   "metadata": {
    "colab": {},
    "colab_type": "code",
    "id": "ZFdBsrs9sLyW",
    "outputId": "ebd7c52c-ce23-40aa-fd08-46488864782a"
   },
   "outputs": [
    {
     "data": {
      "text/html": [
       "<div>\n",
       "<style scoped>\n",
       "    .dataframe tbody tr th:only-of-type {\n",
       "        vertical-align: middle;\n",
       "    }\n",
       "\n",
       "    .dataframe tbody tr th {\n",
       "        vertical-align: top;\n",
       "    }\n",
       "\n",
       "    .dataframe thead th {\n",
       "        text-align: right;\n",
       "    }\n",
       "</style>\n",
       "<table border=\"1\" class=\"dataframe\">\n",
       "  <thead>\n",
       "    <tr style=\"text-align: right;\">\n",
       "      <th></th>\n",
       "      <th>YYYY</th>\n",
       "      <th>MM</th>\n",
       "      <th>DD</th>\n",
       "      <th>TMAX</th>\n",
       "      <th>TMIN</th>\n",
       "      <th>PRCP</th>\n",
       "      <th>SNOW</th>\n",
       "      <th>SNWD</th>\n",
       "      <th>date</th>\n",
       "      <th>jday</th>\n",
       "    </tr>\n",
       "  </thead>\n",
       "  <tbody>\n",
       "    <tr>\n",
       "      <th>631</th>\n",
       "      <td>1982</td>\n",
       "      <td>6</td>\n",
       "      <td>24</td>\n",
       "      <td>32.2</td>\n",
       "      <td>15.6</td>\n",
       "      <td>0.0</td>\n",
       "      <td>0.0</td>\n",
       "      <td>0.0</td>\n",
       "      <td>1982-06-24</td>\n",
       "      <td>175</td>\n",
       "    </tr>\n",
       "    <tr>\n",
       "      <th>632</th>\n",
       "      <td>1982</td>\n",
       "      <td>6</td>\n",
       "      <td>25</td>\n",
       "      <td>20.6</td>\n",
       "      <td>9.4</td>\n",
       "      <td>1.3</td>\n",
       "      <td>0.0</td>\n",
       "      <td>0.0</td>\n",
       "      <td>1982-06-25</td>\n",
       "      <td>176</td>\n",
       "    </tr>\n",
       "    <tr>\n",
       "      <th>633</th>\n",
       "      <td>1982</td>\n",
       "      <td>6</td>\n",
       "      <td>26</td>\n",
       "      <td>23.3</td>\n",
       "      <td>NaN</td>\n",
       "      <td>0.0</td>\n",
       "      <td>0.0</td>\n",
       "      <td>0.0</td>\n",
       "      <td>1982-06-26</td>\n",
       "      <td>177</td>\n",
       "    </tr>\n",
       "    <tr>\n",
       "      <th>634</th>\n",
       "      <td>1982</td>\n",
       "      <td>6</td>\n",
       "      <td>27</td>\n",
       "      <td>27.2</td>\n",
       "      <td>12.8</td>\n",
       "      <td>0.0</td>\n",
       "      <td>0.0</td>\n",
       "      <td>0.0</td>\n",
       "      <td>1982-06-27</td>\n",
       "      <td>178</td>\n",
       "    </tr>\n",
       "    <tr>\n",
       "      <th>635</th>\n",
       "      <td>1982</td>\n",
       "      <td>6</td>\n",
       "      <td>28</td>\n",
       "      <td>31.7</td>\n",
       "      <td>15.6</td>\n",
       "      <td>0.0</td>\n",
       "      <td>0.0</td>\n",
       "      <td>0.0</td>\n",
       "      <td>1982-06-28</td>\n",
       "      <td>179</td>\n",
       "    </tr>\n",
       "  </tbody>\n",
       "</table>\n",
       "</div>"
      ],
      "text/plain": [
       "     YYYY  MM  DD  TMAX  TMIN  PRCP  SNOW  SNWD       date  jday\n",
       "631  1982   6  24  32.2  15.6   0.0   0.0   0.0 1982-06-24   175\n",
       "632  1982   6  25  20.6   9.4   1.3   0.0   0.0 1982-06-25   176\n",
       "633  1982   6  26  23.3   NaN   0.0   0.0   0.0 1982-06-26   177\n",
       "634  1982   6  27  27.2  12.8   0.0   0.0   0.0 1982-06-27   178\n",
       "635  1982   6  28  31.7  15.6   0.0   0.0   0.0 1982-06-28   179"
      ]
     },
     "execution_count": 7,
     "metadata": {
      "tags": []
     },
     "output_type": "execute_result"
    }
   ],
   "source": [
    "#call method that gets our data in the right format\n",
    "#correct days, years, etc.\n",
    "station_data = get_ghcnd_stn(ghcnd_csv_dir, station_id, start_year, end_year, start_doy, end_doy)\n",
    "\n",
    "station_data.head()"
   ]
  },
  {
   "cell_type": "code",
   "execution_count": 0,
   "metadata": {
    "colab": {},
    "colab_type": "code",
    "id": "CsjtXP-7sLyt",
    "outputId": "ed1c6515-f90a-4676-a329-c62f23ca1c83"
   },
   "outputs": [
    {
     "data": {
      "text/html": [
       "<div>\n",
       "<style scoped>\n",
       "    .dataframe tbody tr th:only-of-type {\n",
       "        vertical-align: middle;\n",
       "    }\n",
       "\n",
       "    .dataframe tbody tr th {\n",
       "        vertical-align: top;\n",
       "    }\n",
       "\n",
       "    .dataframe thead th {\n",
       "        text-align: right;\n",
       "    }\n",
       "</style>\n",
       "<table border=\"1\" class=\"dataframe\">\n",
       "  <thead>\n",
       "    <tr style=\"text-align: right;\">\n",
       "      <th></th>\n",
       "      <th>YYYY</th>\n",
       "      <th>MM</th>\n",
       "      <th>DD</th>\n",
       "      <th>TMAX</th>\n",
       "      <th>TMIN</th>\n",
       "      <th>PRCP</th>\n",
       "      <th>SNOW</th>\n",
       "      <th>SNWD</th>\n",
       "      <th>date</th>\n",
       "      <th>jday</th>\n",
       "      <th>TMAXANOM</th>\n",
       "    </tr>\n",
       "  </thead>\n",
       "  <tbody>\n",
       "    <tr>\n",
       "      <th>631</th>\n",
       "      <td>1982</td>\n",
       "      <td>6</td>\n",
       "      <td>24</td>\n",
       "      <td>32.2</td>\n",
       "      <td>15.6</td>\n",
       "      <td>0.0</td>\n",
       "      <td>0.0</td>\n",
       "      <td>0.0</td>\n",
       "      <td>1982-06-24</td>\n",
       "      <td>175</td>\n",
       "      <td>2.938235</td>\n",
       "    </tr>\n",
       "    <tr>\n",
       "      <th>632</th>\n",
       "      <td>1982</td>\n",
       "      <td>6</td>\n",
       "      <td>25</td>\n",
       "      <td>20.6</td>\n",
       "      <td>9.4</td>\n",
       "      <td>1.3</td>\n",
       "      <td>0.0</td>\n",
       "      <td>0.0</td>\n",
       "      <td>1982-06-25</td>\n",
       "      <td>176</td>\n",
       "      <td>-8.567647</td>\n",
       "    </tr>\n",
       "    <tr>\n",
       "      <th>633</th>\n",
       "      <td>1982</td>\n",
       "      <td>6</td>\n",
       "      <td>26</td>\n",
       "      <td>23.3</td>\n",
       "      <td>NaN</td>\n",
       "      <td>0.0</td>\n",
       "      <td>0.0</td>\n",
       "      <td>0.0</td>\n",
       "      <td>1982-06-26</td>\n",
       "      <td>177</td>\n",
       "      <td>-6.014706</td>\n",
       "    </tr>\n",
       "    <tr>\n",
       "      <th>634</th>\n",
       "      <td>1982</td>\n",
       "      <td>6</td>\n",
       "      <td>27</td>\n",
       "      <td>27.2</td>\n",
       "      <td>12.8</td>\n",
       "      <td>0.0</td>\n",
       "      <td>0.0</td>\n",
       "      <td>0.0</td>\n",
       "      <td>1982-06-27</td>\n",
       "      <td>178</td>\n",
       "      <td>-1.920588</td>\n",
       "    </tr>\n",
       "    <tr>\n",
       "      <th>635</th>\n",
       "      <td>1982</td>\n",
       "      <td>6</td>\n",
       "      <td>28</td>\n",
       "      <td>31.7</td>\n",
       "      <td>15.6</td>\n",
       "      <td>0.0</td>\n",
       "      <td>0.0</td>\n",
       "      <td>0.0</td>\n",
       "      <td>1982-06-28</td>\n",
       "      <td>179</td>\n",
       "      <td>2.338235</td>\n",
       "    </tr>\n",
       "  </tbody>\n",
       "</table>\n",
       "</div>"
      ],
      "text/plain": [
       "     YYYY  MM  DD  TMAX  TMIN  PRCP  SNOW  SNWD       date  jday  TMAXANOM\n",
       "631  1982   6  24  32.2  15.6   0.0   0.0   0.0 1982-06-24   175  2.938235\n",
       "632  1982   6  25  20.6   9.4   1.3   0.0   0.0 1982-06-25   176 -8.567647\n",
       "633  1982   6  26  23.3   NaN   0.0   0.0   0.0 1982-06-26   177 -6.014706\n",
       "634  1982   6  27  27.2  12.8   0.0   0.0   0.0 1982-06-27   178 -1.920588\n",
       "635  1982   6  28  31.7  15.6   0.0   0.0   0.0 1982-06-28   179  2.338235"
      ]
     },
     "execution_count": 10,
     "metadata": {
      "tags": []
     },
     "output_type": "execute_result"
    }
   ],
   "source": [
    "#calculate anomaly based on the maximum temperature variable\n",
    "station_data2 = calc_stn_anom(station_data, 'TMAX')\n",
    "\n",
    "station_data2.head()"
   ]
  },
  {
   "cell_type": "code",
   "execution_count": 0,
   "metadata": {
    "colab": {},
    "colab_type": "code",
    "id": "cs7AME9ssLzD",
    "outputId": "8b121f21-436b-474d-f9a2-7286c9f57ac9"
   },
   "outputs": [
    {
     "name": "stdout",
     "output_type": "stream",
     "text": [
      "[0 1]\n"
     ]
    }
   ],
   "source": [
    "#calculate hot or not-hot labels based on our cutoff value\n",
    "station_data3 = find_hot_days(station_data2, cut_off)\n",
    "\n",
    "print(station_data3.HOT.unique())"
   ]
  },
  {
   "cell_type": "code",
   "execution_count": 0,
   "metadata": {
    "colab": {},
    "colab_type": "code",
    "id": "6mkAwceesLzK",
    "outputId": "e0a04905-a933-47b6-efb5-af81ac64fffd"
   },
   "outputs": [
    {
     "name": "stdout",
     "output_type": "stream",
     "text": [
      "136\n"
     ]
    }
   ],
   "source": [
    "print(np.count_nonzero(station_data3.HOT))"
   ]
  },
  {
   "cell_type": "code",
   "execution_count": 0,
   "metadata": {
    "colab": {},
    "colab_type": "code",
    "id": "ZlgCUIDPsLzR",
    "outputId": "4d57be66-01b8-40f3-d79f-bc8c97035354"
   },
   "outputs": [
    {
     "name": "stdout",
     "output_type": "stream",
     "text": [
      "(2040,)\n"
     ]
    }
   ],
   "source": [
    "print(station_data3.HOT.shape)"
   ]
  },
  {
   "cell_type": "code",
   "execution_count": 0,
   "metadata": {
    "colab": {},
    "colab_type": "code",
    "id": "e5WfjWAQsLzk",
    "outputId": "167861b5-1bc2-4841-858d-b036e60bb7b2"
   },
   "outputs": [
    {
     "name": "stdout",
     "output_type": "stream",
     "text": [
      "       YYYY  MM  DD  TMAX  TMIN  PRCP  SNOW  SNWD       date  jday   TMAXANOM  \\\n",
      "965    1983   6  24  32.2  17.2   0.0   0.0   0.0 1983-06-24   175   2.938235   \n",
      "966    1983   6  25  33.3  18.9   0.0   0.0   0.0 1983-06-25   176   4.132353   \n",
      "967    1983   6  26  32.8  18.9   0.0   0.0   0.0 1983-06-26   177   3.485294   \n",
      "968    1983   6  27  27.2  17.2   0.0   0.0   0.0 1983-06-27   178  -1.920588   \n",
      "969    1983   6  28  22.8  13.9  21.8   0.0   0.0 1983-06-28   179  -6.561765   \n",
      "970    1983   6  29  16.7  13.9   8.9   0.0   0.0 1983-06-29   180 -13.011765   \n",
      "971    1983   6  30  25.6  15.0   0.8   0.0   0.0 1983-06-30   181  -3.138235   \n",
      "972    1983   7   1  30.6  13.9  44.2   0.0   0.0 1983-07-01   182   1.324242   \n",
      "973    1983   7   2  30.0  14.4   0.3   0.0   0.0 1983-07-02   183   1.030303   \n",
      "974    1983   7   3  32.8  18.9   3.8   0.0   0.0 1983-07-03   184   2.640625   \n",
      "975    1983   7   4  21.1  11.1   1.3   0.0   0.0 1983-07-04   185  -9.515152   \n",
      "976    1983   7   5  23.9  11.7   0.0   0.0   0.0 1983-07-05   186  -6.554545   \n",
      "977    1983   7   6  30.0  13.3   0.0   0.0   0.0 1983-07-06   187  -0.981818   \n",
      "978    1983   7   7  32.2  17.8   0.0   0.0   0.0 1983-07-07   188   0.996970   \n",
      "979    1983   7   8  35.0  19.4   0.0   0.0   0.0 1983-07-08   189   4.054545   \n",
      "980    1983   7   9  35.0  17.2   0.0   0.0   0.0 1983-07-09   190   4.442424   \n",
      "981    1983   7  10  36.1  17.2   0.0   0.0   0.0 1983-07-10   191   4.721212   \n",
      "982    1983   7  11  37.8  14.4   0.0   0.0   0.0 1983-07-11   192   6.772727   \n",
      "983    1983   7  12  28.3  12.2   0.0   0.0   0.0 1983-07-12   193  -2.145455   \n",
      "984    1983   7  13  33.3  16.1   0.0   0.0   0.0 1983-07-13   194   2.863636   \n",
      "985    1983   7  14  36.7  19.4   0.0   0.0   0.0 1983-07-14   195   4.757576   \n",
      "986    1983   7  15  36.1  21.7   0.0   0.0   0.0 1983-07-15   196   4.484848   \n",
      "987    1983   7  16  32.8  15.6  17.8   0.0   0.0 1983-07-16   197   0.009091   \n",
      "988    1983   7  17  28.9  16.1   2.8   0.0   0.0 1983-07-17   198  -4.630303   \n",
      "989    1983   7  18  33.3  18.3   3.0   0.0   0.0 1983-07-18   199   0.287879   \n",
      "990    1983   7  19  34.4  18.3   0.0   0.0   0.0 1983-07-19   200   1.530303   \n",
      "991    1983   7  20  40.0  22.2   0.0   0.0   0.0 1983-07-20   201   8.403030   \n",
      "992    1983   7  21  38.9  21.1   0.0   0.0   0.0 1983-07-21   202   6.648485   \n",
      "993    1983   7  22  35.0  20.0   0.0   0.0   0.0 1983-07-22   203   3.939394   \n",
      "994    1983   7  23  32.2  15.6  51.3   0.0   0.0 1983-07-23   204   0.693939   \n",
      "...     ...  ..  ..   ...   ...   ...   ...   ...        ...   ...        ...   \n",
      "10110  2008   7  23  31.1  17.8  10.2   0.0   0.0 2008-07-23   205  -0.406061   \n",
      "10111  2008   7  24  25.0  17.8  34.5   0.0   0.0 2008-07-24   206  -6.406061   \n",
      "10112  2008   7  25  30.6  17.2   0.0   0.0   0.0 2008-07-25   207  -1.106061   \n",
      "10113  2008   7  26  31.1  18.3   0.0   0.0   0.0 2008-07-26   208  -0.515152   \n",
      "10114  2008   7  27  31.7  19.4   0.0   0.0   0.0 2008-07-27   209   0.342424   \n",
      "10115  2008   7  28  32.8  19.4   0.0   0.0   0.0 2008-07-28   210   0.912121   \n",
      "10116  2008   7  29  32.8  17.2   3.8   0.0   0.0 2008-07-29   211   1.218182   \n",
      "10117  2008   7  30  31.1  18.3   0.0   0.0   0.0 2008-07-30   212  -0.227273   \n",
      "10118  2008   7  31  35.6  19.4   0.0   0.0   0.0 2008-07-31   213   3.263636   \n",
      "10119  2008   8   1  31.7  16.7   0.0   0.0   0.0 2008-08-01   214  -0.924242   \n",
      "10120  2008   8   2  33.3  17.2   0.0   0.0   0.0 2008-08-02   215   1.250000   \n",
      "10121  2008   8   3  32.2  18.9   0.0   0.0   0.0 2008-08-03   216   0.255882   \n",
      "10122  2008   8   4  32.2  18.9   0.0   0.0   0.0 2008-08-04   217   1.008824   \n",
      "10123  2008   8   5  30.0  15.6   0.0   0.0   0.0 2008-08-05   218   0.873529   \n",
      "10124  2008   8   6  32.2  16.7  10.9   0.0   0.0 2008-08-06   219   1.729412   \n",
      "10125  2008   8   7  29.4  15.6   0.0   0.0   0.0 2008-08-07   220  -0.979412   \n",
      "10126  2008   8   8  31.1  16.7   0.0   0.0   0.0 2008-08-08   221  -0.729412   \n",
      "10127  2008   8   9  32.2  17.8   0.0   0.0   0.0 2008-08-09   222   1.044118   \n",
      "10128  2008   8  10  32.8  17.2   0.5   0.0   0.0 2008-08-10   223   2.694118   \n",
      "10129  2008   8  11  31.1  17.8   0.0   0.0   0.0 2008-08-11   224   1.838235   \n",
      "10130  2008   8  12  30.0  14.4  12.7   0.0   0.0 2008-08-12   225  -0.338235   \n",
      "10131  2008   8  13  32.2  16.1   0.0   0.0   0.0 2008-08-13   226   2.805882   \n",
      "10132  2008   8  14  31.7  13.3   0.0   0.0   0.0 2008-08-14   227   2.491176   \n",
      "10133  2008   8  15  29.4  14.4   6.1   0.0   0.0 2008-08-15   228  -0.923529   \n",
      "10134  2008   8  16  27.8  15.0   0.0   0.0   0.0 2008-08-16   229  -3.132353   \n",
      "10135  2008   8  17  30.0  18.3   0.0   0.0   0.0 2008-08-17   230  -0.041176   \n",
      "10136  2008   8  18  30.0  15.6   0.0   0.0   0.0 2008-08-18   231  -0.323529   \n",
      "10137  2008   8  19  32.2  15.6   0.0   0.0   0.0 2008-08-19   232   2.838235   \n",
      "10138  2008   8  20  30.6  17.2   0.0   0.0   0.0 2008-08-20   233   1.891176   \n",
      "10139  2008   8  21  30.0  18.3   0.0   0.0   0.0 2008-08-21   234   0.908824   \n",
      "\n",
      "       HOT  \n",
      "965      0  \n",
      "966      0  \n",
      "967      0  \n",
      "968      0  \n",
      "969      0  \n",
      "970      0  \n",
      "971      0  \n",
      "972      0  \n",
      "973      0  \n",
      "974      0  \n",
      "975      0  \n",
      "976      0  \n",
      "977      0  \n",
      "978      0  \n",
      "979      0  \n",
      "980      0  \n",
      "981      0  \n",
      "982      1  \n",
      "983      0  \n",
      "984      0  \n",
      "985      0  \n",
      "986      0  \n",
      "987      0  \n",
      "988      0  \n",
      "989      0  \n",
      "990      0  \n",
      "991      1  \n",
      "992      1  \n",
      "993      0  \n",
      "994      0  \n",
      "...    ...  \n",
      "10110    0  \n",
      "10111    0  \n",
      "10112    0  \n",
      "10113    0  \n",
      "10114    0  \n",
      "10115    0  \n",
      "10116    0  \n",
      "10117    0  \n",
      "10118    0  \n",
      "10119    0  \n",
      "10120    0  \n",
      "10121    0  \n",
      "10122    0  \n",
      "10123    0  \n",
      "10124    0  \n",
      "10125    0  \n",
      "10126    0  \n",
      "10127    0  \n",
      "10128    0  \n",
      "10129    0  \n",
      "10130    0  \n",
      "10131    0  \n",
      "10132    0  \n",
      "10133    0  \n",
      "10134    0  \n",
      "10135    0  \n",
      "10136    0  \n",
      "10137    0  \n",
      "10138    0  \n",
      "10139    0  \n",
      "\n",
      "[240 rows x 12 columns]\n"
     ]
    }
   ],
   "source": [
    "#dev_nino_list = [1983, 1990, 1995, 2008]\n",
    "#subset for development set\n",
    "_1983 = station_data3[station_data3.YYYY == 1983]\n",
    "_1990 = station_data3[station_data3.YYYY == 1990]\n",
    "_1995 = station_data3[station_data3.YYYY == 1995]\n",
    "_2008 = station_data3[station_data3.YYYY == 2008]\n",
    "\n",
    "#create development set through concatenation\n",
    "hot_dev = pd.concat([_1983, _1990, _1995, _2008])\n",
    "\n",
    "print(hot_dev)"
   ]
  },
  {
   "cell_type": "code",
   "execution_count": 0,
   "metadata": {
    "colab": {},
    "colab_type": "code",
    "id": "BN-gCSXfsLzx",
    "outputId": "21a9148c-6af6-4d5b-bed7-7c253575e19e"
   },
   "outputs": [
    {
     "name": "stdout",
     "output_type": "stream",
     "text": [
      "(240,)\n"
     ]
    }
   ],
   "source": [
    "#get development set target lables\n",
    "Y_dev = hot_dev.HOT.values\n",
    "\n",
    "print(Y_dev.shape)"
   ]
  },
  {
   "cell_type": "code",
   "execution_count": 0,
   "metadata": {
    "colab": {},
    "colab_type": "code",
    "id": "3p2UBjgusL0E",
    "outputId": "354f7cfd-d0c6-4ee9-b404-d2c8e860a568"
   },
   "outputs": [
    {
     "name": "stdout",
     "output_type": "stream",
     "text": [
      "(240,)\n"
     ]
    }
   ],
   "source": [
    "#val_nino_list = [1988, 1994, 1999, 2003]\n",
    "_1988 = station_data3[station_data3.YYYY == 1988]\n",
    "_1994 = station_data3[station_data3.YYYY == 1994]\n",
    "_1999 = station_data3[station_data3.YYYY == 1999]\n",
    "_2003 = station_data3[station_data3.YYYY == 2003]\n",
    "\n",
    "#create validation set through concatenation\n",
    "hot_val = pd.concat([_1988, _1994, _1999, _2003])\n",
    "\n",
    "#get labels so that we can save them\n",
    "Y_val = hot_val.HOT.values\n",
    "\n",
    "print(Y_val.shape)"
   ]
  },
  {
   "cell_type": "code",
   "execution_count": 0,
   "metadata": {
    "colab": {},
    "colab_type": "code",
    "id": "gsR5zGjMsL0L",
    "outputId": "8e128dcb-d7cb-459a-c36f-b5da71ae1f25"
   },
   "outputs": [
    {
     "name": "stdout",
     "output_type": "stream",
     "text": [
      "[1982 1983 1984 1985 1986 1987 1988 1989 1990 1991 1992 1993 1994 1995\n",
      " 1996 1997 1998 1999 2000 2001 2002 2003 2004 2005 2006 2007 2008 2009\n",
      " 2010 2011 2012 2013 2014 2015]\n",
      "     YYYY  MM  DD  TMAX  TMIN  PRCP  SNOW  SNWD       date  jday  TMAXANOM  \\\n",
      "631  1982   6  24  32.2  15.6   0.0   0.0   0.0 1982-06-24   175  2.938235   \n",
      "632  1982   6  25  20.6   9.4   1.3   0.0   0.0 1982-06-25   176 -8.567647   \n",
      "633  1982   6  26  23.3   NaN   0.0   0.0   0.0 1982-06-26   177 -6.014706   \n",
      "634  1982   6  27  27.2  12.8   0.0   0.0   0.0 1982-06-27   178 -1.920588   \n",
      "635  1982   6  28  31.7  15.6   0.0   0.0   0.0 1982-06-28   179  2.338235   \n",
      "\n",
      "     HOT  \n",
      "631    0  \n",
      "632    0  \n",
      "633    0  \n",
      "634    0  \n",
      "635    0  \n"
     ]
    }
   ],
   "source": [
    "print(station_data3.YYYY.unique())\n",
    "\n",
    "print(station_data3.head())"
   ]
  },
  {
   "cell_type": "code",
   "execution_count": 0,
   "metadata": {
    "colab": {},
    "colab_type": "code",
    "id": "AJfzOcPnsL0n",
    "outputId": "eee29bf7-c231-4cb8-fbf7-bfcac45b07c5"
   },
   "outputs": [
    {
     "name": "stdout",
     "output_type": "stream",
     "text": [
      "(1560,)\n"
     ]
    }
   ],
   "source": [
    "#the years in the dev and val sets\n",
    "list_years = [1983, 1988, 1990, 1994, 1995, 1999, 2003, 2008]\n",
    "\n",
    "#every year not in the dev or val sets should be in the training set\n",
    "for i in list_years:\n",
    "    station_data3 = station_data3[station_data3.YYYY != i]\n",
    "\n",
    "Y_train = station_data3.HOT.values\n",
    "\n",
    "print(Y_train.shape)"
   ]
  },
  {
   "cell_type": "code",
   "execution_count": 0,
   "metadata": {
    "colab": {},
    "colab_type": "code",
    "id": "CrKktnSgsL04"
   },
   "outputs": [],
   "source": [
    "#create directories to save output to if they don't already exist\n",
    "os.mkdir('/glade/work/jakidxav/IPython/20_lead/Y_train/station11/')\n",
    "os.mkdir('/glade/work/jakidxav/IPython/20_lead/Y_dev/station11/')\n",
    "os.mkdir('/glade/work/jakidxav/IPython/20_lead/Y_val/station11/')\n",
    "\n",
    "#save train labels for a particular lead time\n",
    "Y_train_filename = '/glade/work/jakidxav/IPython/20_lead/Y_train/station11/Y_train.txt'\n",
    "with open(Y_train_filename, 'wb') as f:\n",
    "   pickle.dump(Y_train, f)\n",
    "\n",
    "#save dev labels for a particular lead time\n",
    "Y_dev_filename = '/glade/work/jakidxav/IPython/20_lead/Y_dev/station11/Y_dev.txt'\n",
    "with open(Y_dev_filename, 'wb') as g:\n",
    "   pickle.dump(Y_dev, g)\n",
    "\n",
    "#save validation labels for a particular lead time\n",
    "Y_val_filename = '/glade/work/jakidxav/IPython/20_lead/Y_val/station11/Y_val.txt'\n",
    "with open(Y_val_filename, 'wb') as h:\n",
    "   pickle.dump(Y_val, h)"
   ]
  },
  {
   "cell_type": "code",
   "execution_count": 0,
   "metadata": {
    "colab": {},
    "colab_type": "code",
    "id": "ipFoAvNzsL1B",
    "outputId": "45889bdf-7934-4608-d9bf-51ac1c2ca7cd"
   },
   "outputs": [
    {
     "name": "stdout",
     "output_type": "stream",
     "text": [
      "[0 1 1 0 0 1 1 0 0 0 0 0 1 0 0 0 0 0 0 0 0 0 1 0 0 0 0 0 0 0 0 0 0 0 0 0 0\n",
      " 1 1 1 0 0 0 0 0 0 0 0 0 1 1 1 0 1 1 1 0 0 0 0 0 0 0 0 0 0 0 0 0 0 0 0 0 0\n",
      " 0 0 0 0 0 0 0 0 0 0 0 0 0 0 0 0 0 0 0 0 0 0 0 0 0 0 0 0 0 0 0 0 0 0 0 0 0\n",
      " 0 0 0 0 0 0 0 0 0 0 0 0 0 0 0 0 0 0 0 0 0 0 0 0 0 0 0 0 0 0 0 0 0 0 0 0 0\n",
      " 0 0 0 0 0 0 0 0 1 0 0 0 0 0 0 0 0 0 0 0 0 0 0 0 0 1 0 0 0 0 0 0 0 0 0 0 0\n",
      " 0 0 0 0 1 0 0 0 0 0 0 0 0 0 0 0 0 0 0 0 0 0 0 0 0 0 0 1 0 0 0 0 0 0 0 0 0\n",
      " 0 0 0 0 0 0 0 0 0 0 0 0 1 1 1 1 1 0]\n"
     ]
    }
   ],
   "source": [
    "print(Y_val)"
   ]
  },
  {
   "cell_type": "code",
   "execution_count": 0,
   "metadata": {
    "colab": {},
    "colab_type": "code",
    "id": "io5XMvnLsL1I",
    "outputId": "b1634882-59f2-4387-8ef3-912e5c23c159"
   },
   "outputs": [
    {
     "name": "stdout",
     "output_type": "stream",
     "text": [
      "(240,)\n"
     ]
    }
   ],
   "source": [
    "print(Y_val.shape)"
   ]
  }
 ],
 "metadata": {
  "colab": {
   "name": "ghcn_Import.ipynb",
   "provenance": [],
   "version": "0.3.2"
  },
  "kernelspec": {
   "display_name": "Python 3",
   "language": "python",
   "name": "python3"
  },
  "language_info": {
   "codemirror_mode": {
    "name": "ipython",
    "version": 3
   },
   "file_extension": ".py",
   "mimetype": "text/x-python",
   "name": "python",
   "nbconvert_exporter": "python",
   "pygments_lexer": "ipython3",
   "version": "3.6.8"
  }
 },
 "nbformat": 4,
 "nbformat_minor": 1
}
