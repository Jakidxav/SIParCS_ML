{
 "cells": [
  {
   "cell_type": "markdown",
   "metadata": {},
   "source": [
    "Authors: Negin Sobhani, Jakidxav\n",
    "\n",
    "## Introduction\n",
    "\n",
    "In this Notebook, I am going to show how we can read in data from a NetCDF file, subset for temporal and spatial indices, and then replace missing values in Python."
   ]
  },
  {
   "cell_type": "code",
   "execution_count": 1,
   "metadata": {},
   "outputs": [],
   "source": [
    "import netCDF4 as nc\n",
    "import pickle\n",
    "\n",
    "import numpy as np\n",
    "import datetime as dt\n",
    "import pandas as pd\n",
    "\n",
    "import matplotlib.pylab as plt\n",
    "import matplotlib.cm as cm\n",
    "%matplotlib inline\n",
    "import cmocean"
   ]
  },
  {
   "cell_type": "code",
   "execution_count": 2,
   "metadata": {},
   "outputs": [],
   "source": [
    "sst_dir = '/Users/jakidxav/Desktop/Testing/'        \n",
    "\n",
    "#starting and end years for loading in data\n",
    "start_year = 1982\n",
    "end_year   = 2015\n",
    "\n",
    "#the days we care about; specified in mckinnon's paper\n",
    "start_doy  = 175\n",
    "end_doy    = 234\n",
    "\n",
    "#cutoff for choosing whether the day was anomalously hot or not\n",
    "cut_off = 6.5\n",
    "     \n",
    "#the region of interest\n",
    "lat_lims = [20.,50.]\n",
    "lon_lims = [145.,230.]\n",
    "\n",
    "#choose a lead time\n",
    "lead_time = 30\n",
    "\n",
    "#where to save train, dev, and val sets\n",
    "sst_train_list = []\n",
    "sst_dev_list = []\n",
    "sst_val_list = []\n",
    "\n",
    "#dev/test set include 2 el nino years, 1 non-el nino years\n",
    "#https://www.esrl.noaa.gov/psd/enso/past_events.html\n",
    "dev_nino_list = [1983, 1990, 1995, 2008]\n",
    "val_nino_list = [1988, 1994, 1999, 2003]"
   ]
  },
  {
   "cell_type": "code",
   "execution_count": 3,
   "metadata": {},
   "outputs": [],
   "source": [
    "'''\n",
    "* This functions import global daily sst data\n",
    "* Select the time period of interest in a year\n",
    "* Select the data between Lat and Lon range\n",
    "\n",
    "Parameters\n",
    "----------\n",
    "    sst_dir\n",
    "    yr,\n",
    "    start_doy,\n",
    "    end_doy,\n",
    "    lead_time,\n",
    "    lat_lims ---  [lat_min lat_max]\n",
    "    lon_lims ---  [lon_min lon_mas]\n",
    "\n",
    "Returns\n",
    "-------\n",
    "\n",
    "Example\n",
    "-------\n",
    "lat_lims = [20.,50.]\n",
    "lon_lims = [145.,230.]\n",
    "\n",
    "\n",
    "'''\n",
    "def process_sst_data (sst_dir, yr, start_doy, end_doy, lead_time, lat_lims, lon_lims):\n",
    "            \n",
    "            #unpack variables from netcdf \n",
    "            sst_name = \"sst.day.anom.\"+str(yr)+\".nc\"\n",
    "            f = nc.Dataset(sst_dir+sst_name)\n",
    "            anom = f.variables['anom'][:]\n",
    "            lon  = f.variables['lon'][:]\n",
    "            lat  = f.variables['lat'][:]\n",
    "            dumb_time = f.variables['time'][:]\n",
    "\n",
    "            #convert time to datetime\n",
    "            time = pd.to_datetime(dumb_time, unit='D',\n",
    "                       origin=pd.Timestamp('1800-01-01'))\n",
    "            \n",
    "            #get the day of the year variable\n",
    "            jday = time.dayofyear\n",
    "\n",
    "            #create indexers for subsetting lat/lon coordinates\n",
    "            latidx1 = (lat >=lat_lims[0] ) & (lat <=lat_lims[1] )\n",
    "            lonidx1 = (lon >=lon_lims[0] ) & (lon <=lon_lims[1] )\n",
    "\n",
    "            timidx1  = (jday >= start_doy-lead_time)  & (jday <= end_doy-lead_time)\n",
    "\n",
    "            #subset for latitude and longitude\n",
    "            ocean_anom = anom[:, latidx1][..., lonidx1]\n",
    "            \n",
    "            #subset for time\n",
    "            sst_year = ocean_anom[timidx1,:,:]\n",
    "\n",
    "            return sst_year"
   ]
  },
  {
   "cell_type": "code",
   "execution_count": null,
   "metadata": {},
   "outputs": [],
   "source": [
    "# Read SST anomalies data for the selected years\n",
    "\n",
    "# Process data year by year and append each year to specific list\n",
    "#for counter, yr in enumerate(start_year, end_year+1):\n",
    "for yr in range(start_year, end_year+1):\n",
    "    \n",
    "        print('------------------------------------------------------------------')\n",
    "        line = \"Processing SST data for Year : \" + str(yr)\n",
    "        print(line)\n",
    "        \n",
    "        sst_name = \"sst.day.anom.\"+str(yr)+\".nc\"\n",
    "        \n",
    "        if (np.logical_or(yr in dev_nino_list, yr in val_nino_list)):\n",
    "            if (yr in dev_nino_list):\n",
    "                sst_year_dev = process_sst_data(sst_dir, yr, start_doy, end_doy, lead_time, lat_lims, lon_lims)\n",
    "                sst_dev_list.append(sst_year_dev)\n",
    "            else:\n",
    "                sst_val_year = process_sst_data(sst_dir, yr, start_doy, end_doy, lead_time, lat_lims, lon_lims)\n",
    "                sst_val_list.append(sst_val_year)\n",
    "        else:\n",
    "            sst_train_year = process_sst_data(sst_dir, yr, start_doy, end_doy, lead_time, lat_lims, lon_lims)\n",
    "            sst_train_list.append(sst_train_year)"
   ]
  },
  {
   "cell_type": "code",
   "execution_count": null,
   "metadata": {},
   "outputs": [],
   "source": [
    "# # let's look at what one of our arrays look like\n",
    "# plt.imshow(sst_train_list[0][0,:,:], cmap=cmocean.cm.balance)\n",
    "# plt.colorbar()\n",
    "# plt.show()"
   ]
  },
  {
   "cell_type": "code",
   "execution_count": 8,
   "metadata": {},
   "outputs": [
    {
     "name": "stdout",
     "output_type": "stream",
     "text": [
      "-9.96921e+36\n",
      "-7.7\n"
     ]
    }
   ],
   "source": [
    "#we need to replace the missing values here\n",
    "#do so for each the train, dev, and val sets\n",
    "X_train = np.array(sst_train_list)\n",
    "X_train[np.where(X_train < -1e+35)] = 0\n",
    "\n",
    "X_dev = np.array(sst_dev_list)\n",
    "X_dev[np.where(X_dev < -1e+35)] = 0\n",
    "\n",
    "X_val = np.array(sst_val_list)\n",
    "X_val[np.where(X_val < -1e+35)] = 0"
   ]
  },
  {
   "cell_type": "code",
   "execution_count": 78,
   "metadata": {},
   "outputs": [],
   "source": [
    "#save arrays to disk\n",
    "#change the filename based on what the leadtime is\n",
    "X_train_filename = '/glade/work/jakidxav/IPython/X/{}_lead/X_train/X_train.txt'.format(leadtime)\n",
    "with open(X_train_filename, 'wb') as f:\n",
    "    pickle.dump(X_train, f)\n",
    "    \n",
    "X_dev_filename = '/glade/work/jakidxav/IPython/X/{}_lead/X_dev/X_dev.txt'.format(leadtime)\n",
    "with open(X_dev_filename, 'wb') as g:\n",
    "    pickle.dump(X_dev, g)\n",
    "    \n",
    "X_val_filename = '/glade/work/jakidxav/IPython/X/{}_lead/X_val/X_val.txt'.format(leadtime)\n",
    "with open(X_val_filename, 'wb') as h:\n",
    "    pickle.dump(X_val, h)"
   ]
  }
 ],
 "metadata": {
  "kernelspec": {
   "display_name": "Python 3",
   "language": "python",
   "name": "python3"
  },
  "language_info": {
   "codemirror_mode": {
    "name": "ipython",
    "version": 3
   },
   "file_extension": ".py",
   "mimetype": "text/x-python",
   "name": "python",
   "nbconvert_exporter": "python",
   "pygments_lexer": "ipython3",
   "version": "3.6.8"
  }
 },
 "nbformat": 4,
 "nbformat_minor": 2
}
